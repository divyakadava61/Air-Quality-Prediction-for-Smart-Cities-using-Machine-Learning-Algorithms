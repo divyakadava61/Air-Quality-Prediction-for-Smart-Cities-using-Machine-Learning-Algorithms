{
 "cells": [
  {
   "cell_type": "code",
   "execution_count": 11,
   "id": "3119c057",
   "metadata": {},
   "outputs": [],
   "source": [
    "import pandas as pd\n",
    "import numpy as np\n",
    "import matplotlib.pyplot as plt\n",
    "import seaborn as sns"
   ]
  },
  {
   "cell_type": "code",
   "execution_count": 12,
   "id": "30fa4b52",
   "metadata": {},
   "outputs": [],
   "source": [
    "import warnings\n",
    "\n",
    "# Suppress all warnings\n",
    "warnings.filterwarnings('ignore')\n"
   ]
  },
  {
   "cell_type": "code",
   "execution_count": 13,
   "id": "6826d00c",
   "metadata": {},
   "outputs": [],
   "source": [
    "import os\n"
   ]
  },
  {
   "cell_type": "code",
   "execution_count": 14,
   "id": "75e53c1c",
   "metadata": {},
   "outputs": [],
   "source": [
    "\n",
    "filepath = r'C:/Users/madhu/Downloads/archive/station_day.csv'\n",
    "\n",
    "# Load the CSV file\n",
    "station_df = pd.read_csv(filepath)"
   ]
  },
  {
   "cell_type": "code",
   "execution_count": null,
   "id": "21a9d902",
   "metadata": {},
   "outputs": [],
   "source": [
    "station_hour=pd.read_csv( r'C:/Users/madhu/Downloads/archive/station_hour.csv')\n",
    "city_hour=pd.read_csv( r'C:/Users/madhu/Downloads/archive/city_hour.csv')"
   ]
  },
  {
   "cell_type": "code",
   "execution_count": null,
   "id": "3ddabcfa",
   "metadata": {},
   "outputs": [],
   "source": [
    "# Load the datasets\n",
    "station_df = pd.read_csv(r'C:/Users/madhu/Downloads/archive/station_hour.csv')\n",
    "city_day_df = pd.read_csv(r'C:/Users/madhu/Downloads/archive/city_day.csv')\n"
   ]
  },
  {
   "cell_type": "code",
   "execution_count": null,
   "id": "5b2a5760",
   "metadata": {},
   "outputs": [],
   "source": [
    "print(station_df.isnull().sum())\n",
    "print(city_day_df.isnull().sum())\n",
    "\n",
    "# Impute or drop missing values\n",
    "station_df.fillna(station_df.mean(), inplace=True)\n",
    "city_day_df.fillna(city_day_df.mean(), inplace=True)"
   ]
  },
  {
   "cell_type": "code",
   "execution_count": null,
   "id": "2ce71c13",
   "metadata": {},
   "outputs": [],
   "source": [
    "# Convert 'Date' column to datetime format\n",
    "station_df['Date'] = pd.to_datetime(station_df['Date'])\n",
    "city_day_df['Date'] = pd.to_datetime(city_day_df['Date'])\n"
   ]
  },
  {
   "cell_type": "code",
   "execution_count": null,
   "id": "e0cf1d68",
   "metadata": {},
   "outputs": [],
   "source": [
    "# Merge on 'Date' or another common column if applicable\n",
    "merged_df = pd.merge(station_df, city_day_df, on='Date', how='inner')\n"
   ]
  },
  {
   "cell_type": "code",
   "execution_count": null,
   "id": "109742d0",
   "metadata": {},
   "outputs": [],
   "source": [
    "# Display basic information and statistics\n",
    "print(station_df.info())\n",
    "print(city_day_df.info())\n",
    "\n",
    "print(station_df.describe())\n",
    "print(city_day_df.describe())\n"
   ]
  },
  {
   "cell_type": "code",
   "execution_count": null,
   "id": "80206cca",
   "metadata": {},
   "outputs": [],
   "source": [
    "# Plot distribution for PM2.5 and other pollutants\n",
    "sns.histplot(station_df['PM2.5'], kde=True, bins=30)\n",
    "plt.title('PM2.5 Distribution')\n",
    "plt.show()\n",
    "\n",
    "sns.histplot(city_day_df['PM10'], kde=True, bins=30)\n",
    "plt.title('PM10 Distribution')\n",
    "plt.show()\n"
   ]
  },
  {
   "cell_type": "code",
   "execution_count": null,
   "id": "2e8ba44d",
   "metadata": {},
   "outputs": [],
   "source": [
    "# Plot AQI trends over time\n",
    "plt.figure(figsize=(10, 5))\n",
    "plt.plot(station_df['Date'], station_df['AQI'], label='Station AQI', alpha=0.7)\n",
    "plt.plot(city_day_df['Date'], city_day_df['AQI'], label='City AQI', alpha=0.7)\n",
    "plt.legend()\n",
    "plt.title('AQI Trends Over Time')\n",
    "plt.xlabel('Date')\n",
    "plt.ylabel('AQI')\n",
    "plt.show()\n"
   ]
  },
  {
   "cell_type": "code",
   "execution_count": null,
   "id": "fd0e9730",
   "metadata": {},
   "outputs": [],
   "source": [
    "# Correlation heatmap for station dataset\n",
    "plt.figure(figsize=(12, 8))\n",
    "sns.heatmap(station_df.corr(), annot=True, cmap='coolwarm', fmt=\".2f\")\n",
    "plt.title('Correlation Heatmap (Station)')\n",
    "plt.show()\n",
    "\n",
    "# Correlation heatmap for city dataset\n",
    "plt.figure(figsize=(12, 8))\n",
    "sns.heatmap(city_day_df.corr(), annot=True, cmap='coolwarm', fmt=\".2f\")\n",
    "plt.title('Correlation Heatmap (City)')\n",
    "plt.show()\n"
   ]
  },
  {
   "cell_type": "code",
   "execution_count": null,
   "id": "47788ee3",
   "metadata": {},
   "outputs": [],
   "source": [
    "# Scatterplot for PM2.5 vs AQI\n",
    "sns.scatterplot(data=station_df, x='PM2.5', y='AQI', alpha=0.7)\n",
    "plt.title('PM2.5 vs AQI')\n",
    "plt.show()\n",
    "\n",
    "sns.scatterplot(data=city_day_df, x='PM10', y='AQI', alpha=0.7)\n",
    "plt.title('PM10 vs AQI')\n",
    "plt.show()\n"
   ]
  },
  {
   "cell_type": "code",
   "execution_count": null,
   "id": "f2de0f5d",
   "metadata": {},
   "outputs": [],
   "source": [
    "# Boxplot of AQI by Month\n",
    "sns.boxplot(data=station_df, x='Month', y='AQI')\n",
    "plt.title('Monthly AQI Distribution (Station)')\n",
    "plt.show()\n",
    "\n",
    "sns.boxplot(data=city_day_df, x='Month', y='AQI')\n",
    "plt.title('Monthly AQI Distribution (City)')\n",
    "plt.show()\n"
   ]
  },
  {
   "cell_type": "code",
   "execution_count": null,
   "id": "c0d2e4df",
   "metadata": {},
   "outputs": [],
   "source": [
    "# Bar plot of average pollutants\n",
    "pollutants = ['PM2.5', 'PM10', 'NO', 'NO2', 'NOx', 'NH3', 'CO', 'SO2', 'O3', 'Benzene', 'Toluene', 'Xylene']\n",
    "station_avg = station_df[pollutants].mean()\n",
    "city_avg = city_day_df[pollutants].mean()\n",
    "\n",
    "# Plot\n",
    "station_avg.plot(kind='bar', figsize=(10, 5), title='Average Pollutants (Station)')\n",
    "plt.show()\n",
    "\n",
    "city_avg.plot(kind='bar', figsize=(10, 5), title='Average Pollutants (City)')\n",
    "plt.show()\n"
   ]
  },
  {
   "cell_type": "code",
   "execution_count": null,
   "id": "6d753d73",
   "metadata": {},
   "outputs": [],
   "source": [
    "from sklearn.feature_selection import mutual_info_regression\n",
    "\n",
    "# Selecting numerical features for feature importance\n",
    "features = ['PM2.5', 'PM10', 'NO', 'NO2', 'NOx', 'NH3', 'CO', 'SO2', 'O3', 'Benzene', 'Toluene', 'Xylene']\n",
    "X = station_df[features]\n",
    "y = station_df['AQI']\n",
    "\n",
    "# Calculate feature importance using mutual information\n",
    "feature_importances = mutual_info_regression(X, y)\n",
    "importance_df = pd.DataFrame({'Feature': features, 'Importance': feature_importances})\n",
    "importance_df.sort_values(by='Importance', ascending=False, inplace=True)\n",
    "\n",
    "# Plot feature importances\n",
    "sns.barplot(data=importance_df, x='Importance', y='Feature')\n",
    "plt.title('Feature Importance for AQI')\n",
    "plt.show()\n"
   ]
  },
  {
   "cell_type": "code",
   "execution_count": null,
   "id": "edef88c4",
   "metadata": {},
   "outputs": [],
   "source": [
    "from sklearn.model_selection import train_test_split\n",
    "\n",
    "# Splitting the dataset\n",
    "X_train, X_test, y_train, y_test = train_test_split(X, y, test_size=0.2, random_state=42)\n",
    "\n",
    "# Check the shape of the splits\n",
    "print(f\"Training set: {X_train.shape}, Test set: {X_test.shape}\")\n"
   ]
  },
  {
   "cell_type": "code",
   "execution_count": null,
   "id": "7d0f454b",
   "metadata": {},
   "outputs": [],
   "source": [
    "from sklearn.neural_network import MLPRegressor\n",
    "\n",
    "# Initialize and train the ANN model\n",
    "ann_model = MLPRegressor(hidden_layer_sizes=(100, 50), max_iter=500, random_state=42)\n",
    "ann_model.fit(X_train, y_train)\n",
    "\n",
    "# Evaluate the ANN model\n",
    "from sklearn.neural_network import MLPRegressor\n",
    "from sklearn.model_selection import train_test_split\n",
    "from sklearn.metrics import mean_absolute_error, mean_squared_error\n",
    "import numpy as np\n",
    "\n",
    "# Example dataset\n",
    "X = station_df[['PM2.5', 'PM10', 'NO', 'NO2', 'CO', 'SO2', 'O3']]  # Features\n",
    "y = station_df['AQI']  # Target\n",
    "\n",
    "# Train-test split\n",
    "X_train, X_test, y_train, y_test = train_test_split(X, y, test_size=0.2, random_state=42)\n",
    "\n",
    "# Define and train the ANN model\n",
    "ann_model = MLPRegressor(hidden_layer_sizes=(100, 50), max_iter=500, random_state=42)\n",
    "ann_model.fit(X_train, y_train)\n",
    "\n",
    "# Evaluate the model\n",
    "ann_preds = ann_model.predict(X_test)\n",
    "\n",
    "# Calculate evaluation metrics\n",
    "mae = mean_absolute_error(y_test, ann_preds)\n",
    "rmse = np.sqrt(mean_squared_error(y_test, ann_preds))\n",
    "print(f\"ANN - MAE: {mae:.2f}, RMSE: {rmse:.2f}\")\n",
    "\n"
   ]
  },
  {
   "cell_type": "code",
   "execution_count": null,
   "id": "677f5c14",
   "metadata": {},
   "outputs": [],
   "source": [
    "from sklearn.svm import SVR\n",
    "\n",
    "# Initialize and train the SVM model\n",
    "svm_model = SVR(kernel='rbf', C=1.0, epsilon=0.1)\n",
    "svm_model.fit(X_train, y_train)\n",
    "\n",
    "# Evaluate the SVM model\n",
    "svm_train_score = svm_model.score(X_train, y_train)\n",
    "svm_test_score = svm_model.score(X_test, y_test)\n",
    "print(f\"SVM Training Score: {svm_train_score:.2f}, Test Score: {svm_test_score:.2f}\")\n"
   ]
  },
  {
   "cell_type": "code",
   "execution_count": null,
   "id": "1e90e731",
   "metadata": {},
   "outputs": [],
   "source": [
    "from sklearn.metrics import mean_absolute_error, mean_squared_error\n",
    "import numpy as np\n",
    "\n",
    "# Predictions\n",
    "ann_preds = ann_model.predict(X_test)\n",
    "svm_preds = svm_model.predict(X_test)\n",
    "\n",
    "# ANN metrics\n",
    "ann_mae = mean_absolute_error(y_test, ann_preds)\n",
    "ann_rmse = np.sqrt(mean_squared_error(y_test, ann_preds))\n",
    "\n",
    "# SVM metrics\n",
    "svm_mae = mean_absolute_error(y_test, svm_preds)\n",
    "svm_rmse = np.sqrt(mean_squared_error(y_test, svm_preds))\n",
    "\n",
    "print(f\"ANN - MAE: {ann_mae:.2f}, RMSE: {ann_rmse:.2f}\")\n",
    "print(f\"SVM - MAE: {svm_mae:.2f}, RMSE: {svm_rmse:.2f}\")\n"
   ]
  },
  {
   "cell_type": "code",
   "execution_count": null,
   "id": "0758f7e4",
   "metadata": {},
   "outputs": [],
   "source": [
    "# Use ANN predictions as input for SVM\n",
    "hybrid_X_train = ann_model.predict(X_train).reshape(-1, 1)\n",
    "hybrid_X_test = ann_model.predict(X_test).reshape(-1, 1)\n",
    "\n",
    "# Train SVM on ANN outputs\n",
    "svm_hybrid = SVR(kernel='rbf', C=1.0, epsilon=0.1)\n",
    "svm_hybrid.fit(hybrid_X_train, y_train)\n",
    "\n",
    "# Evaluate hybrid model\n",
    "hybrid_preds = svm_hybrid.predict(hybrid_X_test)\n",
    "hybrid_mae = mean_absolute_error(y_test, hybrid_preds)\n",
    "hybrid_rmse = np.sqrt(mean_squared_error(y_test, hybrid_preds))\n",
    "\n",
    "print(f\"Hybrid Model - MAE: {hybrid_mae:.2f}, RMSE: {hybrid_rmse:.2f}\")\n"
   ]
  },
  {
   "cell_type": "code",
   "execution_count": null,
   "id": "3b2f1b4f",
   "metadata": {},
   "outputs": [],
   "source": [
    "# Combine results into a DataFrame for comparison\n",
    "results = pd.DataFrame({\n",
    "    'Model': ['ANN', 'SVM', 'Hybrid'],\n",
    "    'MAE': [ann_mae, svm_mae, hybrid_mae],\n",
    "    'RMSE': [ann_rmse, svm_rmse, hybrid_rmse]\n",
    "})\n",
    "\n",
    "print(results)\n",
    "\n",
    "# Plot results\n",
    "results.set_index('Model')[['MAE', 'RMSE']].plot(kind='bar', figsize=(8, 5))\n",
    "plt.title('Model Performance Comparison')\n",
    "plt.ylabel('Error')\n",
    "plt.show()\n"
   ]
  },
  {
   "cell_type": "code",
   "execution_count": null,
   "id": "8b9d58ec",
   "metadata": {},
   "outputs": [],
   "source": [
    "from sklearn.impute import KNNImputer\n",
    "\n",
    "# Select relevant columns for imputation\n",
    "knn_features = ['AQI', 'PM2.5', 'PM10', 'NO', 'NO2', 'CO', 'SO2', 'O3']\n",
    "knn_data = station_df[knn_features + ['AQI_Bucket']].copy()\n",
    "\n",
    "# Encode AQI_Bucket to numeric\n",
    "knn_data['AQI_Bucket'] = knn_data['AQI_Bucket'].map({\n",
    "    'Good': 0, 'Satisfactory': 1, 'Moderate': 2, 'Poor': 3, \n",
    "    'Very Poor': 4, 'Severe': 5, np.nan: np.nan\n",
    "})\n",
    "\n",
    "# Impute using KNN\n",
    "imputer = KNNImputer(n_neighbors=5)\n",
    "knn_data_imputed = imputer.fit_transform(knn_data)\n",
    "\n",
    "# Decode back to original categories\n",
    "aqi_bucket_mapping = {0: 'Good', 1: 'Satisfactory', 2: 'Moderate', 3: 'Poor', 4: 'Very Poor', 5: 'Severe'}\n",
    "station_df['AQI_Bucket'] = [aqi_bucket_mapping[int(val)] for val in knn_data_imputed[:, -1]]\n"
   ]
  },
  {
   "cell_type": "code",
   "execution_count": null,
   "id": "abb057a5",
   "metadata": {},
   "outputs": [],
   "source": [
    "from sklearn.ensemble import RandomForestClassifier\n",
    "from sklearn.model_selection import train_test_split\n",
    "\n",
    "# Prepare the data\n",
    "non_missing = station_df.dropna(subset=['AQI_Bucket'])\n",
    "missing = station_df[station_df['AQI_Bucket'].isna()]\n",
    "\n",
    "# Encode categorical target\n",
    "target_mapping = {'Good': 0, 'Satisfactory': 1, 'Moderate': 2, 'Poor': 3, 'Very Poor': 4, 'Severe': 5}\n",
    "non_missing['AQI_Bucket'] = non_missing['AQI_Bucket'].map(target_mapping)\n",
    "\n",
    "X = non_missing[['AQI', 'PM2.5', 'PM10', 'NO', 'NO2', 'CO', 'SO2', 'O3']]\n",
    "y = non_missing['AQI_Bucket']\n",
    "\n",
    "# Train-test split\n",
    "X_train, X_val, y_train, y_val = train_test_split(X, y, test_size=0.2, random_state=42)\n",
    "\n",
    "# Train model\n",
    "model = RandomForestClassifier(random_state=42)\n",
    "model.fit(X_train, y_train)\n",
    "\n",
    "# Predict for missing values\n",
    "X_missing = missing[['AQI', 'PM2.5', 'PM10', 'NO', 'NO2', 'CO', 'SO2', 'O3']]\n",
    "predictions = model.predict(X_missing)\n",
    "\n",
    "# Map predictions back to categories\n",
    "reverse_mapping = {v: k for k, v in target_mapping.items()}\n",
    "station_df.loc[station_df['AQI_Bucket'].isna(), 'AQI_Bucket'] = [reverse_mapping[val] for val in predictions]\n"
   ]
  },
  {
   "cell_type": "code",
   "execution_count": null,
   "id": "85a64ece",
   "metadata": {},
   "outputs": [],
   "source": []
  },
  {
   "cell_type": "code",
   "execution_count": null,
   "id": "bc129db5",
   "metadata": {},
   "outputs": [],
   "source": []
  },
  {
   "cell_type": "code",
   "execution_count": null,
   "id": "10f63a5c",
   "metadata": {},
   "outputs": [],
   "source": []
  }
 ],
 "metadata": {
  "kernelspec": {
   "display_name": "Python 3 (ipykernel)",
   "language": "python",
   "name": "python3"
  },
  "language_info": {
   "codemirror_mode": {
    "name": "ipython",
    "version": 3
   },
   "file_extension": ".py",
   "mimetype": "text/x-python",
   "name": "python",
   "nbconvert_exporter": "python",
   "pygments_lexer": "ipython3",
   "version": "3.11.5"
  }
 },
 "nbformat": 4,
 "nbformat_minor": 5
}
